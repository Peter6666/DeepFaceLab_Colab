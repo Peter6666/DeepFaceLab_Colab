{
  "nbformat": 4,
  "nbformat_minor": 0,
  "metadata": {
    "colab": {
      "name": "DeepFaceLab_Colab_V5.ipynb",
      "provenance": [],
      "collapsed_sections": [],
      "include_colab_link": true
    },
    "kernelspec": {
      "name": "python3",
      "display_name": "Python 3"
    },
    "accelerator": "GPU"
  },
  "cells": [
    {
      "cell_type": "markdown",
      "metadata": {
        "id": "view-in-github",
        "colab_type": "text"
      },
      "source": [
        "<a href=\"https://colab.research.google.com/github/dream80/DeepFaceLab_Colab/blob/master/DeepFaceLab_Colab_V5.ipynb\" target=\"_parent\"><img src=\"https://colab.research.google.com/assets/colab-badge.svg\" alt=\"Open In Colab\"/></a>"
      ]
    },
    {
      "cell_type": "markdown",
      "metadata": {
        "id": "KWQMLYlFrTXz"
      },
      "source": [
        "# 简介\n",
        "\n",
        "无需多说，一路运行即可！\n",
        "\n",
        "此脚本由**[托尼是塔克](https://www.tonyisstark.com)**创建，仅用于学习，请勿滥用。如有疑问，拉到最后！\n",
        "\n",
        "QQ群：659480116  \n",
        "教程地址：https://www.deepfaker.xyz"
      ]
    },
    {
      "cell_type": "code",
      "metadata": {
        "id": "AmGMbWZef1XI",
        "cellView": "form",
        "colab": {
          "base_uri": "https://localhost:8080/"
        },
        "outputId": "7986338c-5657-4b38-f664-cf2f92906135"
      },
      "source": [
        "#@title 查看分配到的设备\n",
        "# 查看设备，是K80还是T4,如果是K80...！\n",
        "! /opt/bin/nvidia-smi"
      ],
      "execution_count": 11,
      "outputs": [
        {
          "output_type": "stream",
          "text": [
            "Tue Jul 27 10:25:32 2021       \n",
            "+-----------------------------------------------------------------------------+\n",
            "| NVIDIA-SMI 460.32.03    Driver Version: 460.32.03    CUDA Version: 11.2     |\n",
            "|-------------------------------+----------------------+----------------------+\n",
            "| GPU  Name        Persistence-M| Bus-Id        Disp.A | Volatile Uncorr. ECC |\n",
            "| Fan  Temp  Perf  Pwr:Usage/Cap|         Memory-Usage | GPU-Util  Compute M. |\n",
            "|                               |                      |               MIG M. |\n",
            "|===============================+======================+======================|\n",
            "|   0  Tesla P100-PCIE...  Off  | 00000000:00:04.0 Off |                    0 |\n",
            "| N/A   35C    P0    27W / 250W |      0MiB / 16280MiB |      0%      Default |\n",
            "|                               |                      |                  N/A |\n",
            "+-------------------------------+----------------------+----------------------+\n",
            "                                                                               \n",
            "+-----------------------------------------------------------------------------+\n",
            "| Processes:                                                                  |\n",
            "|  GPU   GI   CI        PID   Type   Process name                  GPU Memory |\n",
            "|        ID   ID                                                   Usage      |\n",
            "|=============================================================================|\n",
            "|  No running processes found                                                 |\n",
            "+-----------------------------------------------------------------------------+\n"
          ],
          "name": "stdout"
        }
      ]
    },
    {
      "cell_type": "markdown",
      "metadata": {
        "id": "ldpC3PjRrYYh"
      },
      "source": [
        "# 第一步 准备工作\n",
        " "
      ]
    },
    {
      "cell_type": "code",
      "metadata": {
        "cellView": "form",
        "id": "KtPP3K9inlLM"
      },
      "source": [
        "#@title 挂载云盘\n",
        "from google.colab import drive\n",
        "drive.mount('/content/drive')"
      ],
      "execution_count": null,
      "outputs": []
    },
    {
      "cell_type": "code",
      "metadata": {
        "id": "ze6K9tYTkqK_",
        "colab": {
          "base_uri": "https://localhost:8080/"
        },
        "cellView": "form",
        "outputId": "6cfd3514-ed95-4049-f7c4-ee6191cd098a"
      },
      "source": [
        "#@title 初始化项目\n",
        "\n",
        "import os \n",
        "root = \"/content/drive/Shareddrives/dl/\" #@param {type:\"string\"}\n",
        "tensorflow = \"2\" #@param [1,2]\n",
        "%cd $root\n",
        "!mkdir DeepFaceLab\n",
        "deepfacelab=os.path.join(root,\"DeepFaceLab\")\n",
        "workspace=os.path.join(deepfacelab,\"workspace\")\n",
        "deepfacelab_cloab=os.path.join(deepfacelab,\"DeepFaceLab_Colab\")\n",
        "\n",
        "if tensorflow==\"1\":\n",
        "  %tensorflow_version 1.x\n",
        "  !sudo apt-get install cuda-10-0\n",
        "else:\n",
        "  %tensorflow_version 2.x\n",
        "\n"
      ],
      "execution_count": 4,
      "outputs": [
        {
          "output_type": "stream",
          "text": [
            "/content/drive/Shareddrives/dl\n",
            "mkdir: cannot create directory ‘DeepFaceLab’: File exists\n"
          ],
          "name": "stdout"
        }
      ]
    },
    {
      "cell_type": "code",
      "metadata": {
        "id": "fptlIHykh3HU",
        "cellView": "form"
      },
      "source": [
        "#@title 准备素材\n",
        "\n",
        "online = True #@param {type:\"boolean\"}\n",
        "upload = \"data_src/aligned\" #@param [\"data_src/aligned\",\"data_dst/aligned\",\"model\",\"data_src\",\"data_dst\"]\n",
        "\n",
        "if online :\n",
        "  %cd $deepfacelab\n",
        "  !rm -rf workspace\n",
        "  !git clone https://github.com/dream80/DFLWorkspace.git workspace\n",
        "else:\n",
        "  from google.colab import files\n",
        "  import shutil\n",
        "  upload_path = os.path.join(workspace,upload)\n",
        "  %cd $upload_path\n",
        "  #if os.path.isdir(upload_path):\n",
        "  #shutil.rmtree(upload_path)\n",
        "  uploaded = files.upload()\n",
        "  '''for filename in uploaded.keys():\n",
        "    print(basepath+\"/\"+filename)\n",
        "    print(upload_path+\"/\"+filename)\n",
        "    shutil.move(os.path.join(basepath, filename), os.path.join(upload_path, filename))\n",
        "\n",
        "  '''\n"
      ],
      "execution_count": null,
      "outputs": []
    },
    {
      "cell_type": "markdown",
      "metadata": {
        "id": "9eiY_suIhUD-"
      },
      "source": [
        "# 第二部 安装软件"
      ]
    },
    {
      "cell_type": "code",
      "metadata": {
        "id": "4CbWbLzHzqTQ",
        "cellView": "form"
      },
      "source": [
        "#@title 开始安装\n",
        "\n",
        "Version = \"v3.07.20\" #@param [\"v2.02.03\", \"v2.02.23b\", \"v2.02.28\",\"v2.03.07\",\"v2.03.15\",\"v2.06.01\",\"v2.06.19\",\"v2.08.02\",\"v3.01.04\",\"v3.07.20\",\"last\"]\n",
        "%cd $deepfacelab\n",
        "!rm -fr DeepFaceLab_Colab\n",
        "\n",
        "if Version==\"620\":\n",
        "  print(\"620版加载中....\")\n",
        "  # 获取DFL源代码v1.6.1稳定版\n",
        "  !git clone -b v1.6.1 https://github.com/dream80/DeepFaceLab_Colab.git\n",
        "  %cd $deepfacelab_cloab\n",
        "  !pip install -r requirements-colab.txt  \n",
        "elif Version==\"last\":\n",
        "  print(\"最新版加载中....\")\n",
        "  !git clone https://github.com/dream80/DeepFaceLab_Colab.git DeepFaceLab_Colab\n",
        "  %cd $deepfacelab_cloab\n",
        "  !pip install -r requirements-colab.txt\n",
        "else:\n",
        "  print(Version+\" 加载中....\")\n",
        "  cmd=\"clone -b \"+Version+\" https://github.com/dream80/DeepFaceLab_Colab.git\"  \n",
        "  !git $cmd\n",
        "  %cd $deepfacelab_cloab\n",
        "  !pip install -r requirements-colab.txt\n",
        "\n",
        "\n"
      ],
      "execution_count": null,
      "outputs": []
    },
    {
      "cell_type": "markdown",
      "metadata": {
        "id": "9G9s5gJrty-x"
      },
      "source": [
        "# 第三步. 提取脸部"
      ]
    },
    {
      "cell_type": "code",
      "metadata": {
        "id": "YnhZyEERAW_D",
        "cellView": "form"
      },
      "source": [
        "#@title 开始提取SRC\n",
        "\n",
        "%cd $deepfacelab_cloab\n",
        "print(\"===分解视频==================================\")\n",
        "!python main.py videoed extract-video --input-file ../workspace/data_src.mp4 --output-dir ../workspace/data_src/\n",
        "print(\"===提取人脸==================================\")\n",
        "!python main.py extract --input-dir ../workspace/data_src --output-dir ../workspace/data_src/aligned --detector s3fd\n",
        "print(\"===打包人脸==================================\")\n",
        "!python main.py util --input-dir ../workspace/data_src/aligned  --pack-faceset\n"
      ],
      "execution_count": null,
      "outputs": []
    },
    {
      "cell_type": "code",
      "metadata": {
        "id": "VvdQB1XhuO8o",
        "cellView": "form"
      },
      "source": [
        "#@title 开始提取DST\n",
        "%cd $deepfacelab_cloab\n",
        "print(\"===分解视频==================================\")\n",
        "!python main.py videoed extract-video --input-file ../workspace/data_dst.mp4 --output-dir ../workspace/data_dst/\n",
        "print(\"===提取人脸==================================\")\n",
        "!python main.py extract --input-dir ../workspace/data_dst --output-dir ../workspace/data_dst/aligned --detector s3fd --output-debug\n",
        "print(\"===打包人脸==================================\")\n",
        "!python main.py util --input-dir ../workspace/data_dst/aligned  --pack-faceset\n"
      ],
      "execution_count": null,
      "outputs": []
    },
    {
      "cell_type": "markdown",
      "metadata": {
        "id": "QxO1kNO_uRTF"
      },
      "source": [
        "# 第四步. 训练模型\n"
      ]
    },
    {
      "cell_type": "code",
      "metadata": {
        "id": "MKQbOrIiyFJL",
        "colab": {
          "base_uri": "https://localhost:8080/"
        },
        "cellView": "form",
        "outputId": "041abd29-7eda-4646-800c-29e2db5d9132"
      },
      "source": [
        "#@title 训练模型\n",
        "Model = \"SAEHD\" #@param [\"SAEHD\",\"AMP\",\"Quick96\",\"XSeg\"]\n",
        "%cd $deepfacelab_cloab\n",
        "cmd = \"main.py train --training-data-src-dir ../workspace/data_src/aligned --training-data-dst-dir ../workspace/data_dst/aligned --model-dir ../workspace/model --model \"+Model+\" --no-preview\"\n",
        "!python $cmd"
      ],
      "execution_count": 8,
      "outputs": [
        {
          "output_type": "stream",
          "text": [
            ""
          ],
          "name": "stdout"
        }
      ]
    },
    {
      "cell_type": "markdown",
      "metadata": {
        "id": "m2Ba96cVuS0K"
      },
      "source": [
        "# 第五步. 转换输出\n",
        "\n"
      ]
    },
    {
      "cell_type": "code",
      "metadata": {
        "id": "G_oEgeU7I9jt",
        "cellView": "form"
      },
      "source": [
        "#@title 应用模型\n",
        "\n",
        "Model = \"SAEHD\" #@param [\"SAEHD\", \"Quick96\"]\n",
        "%cd $deepfacelab_cloab\n",
        "cmd = \" main.py merge --output-mask-dir ../workspace/data_dst/merged_mask --input-dir ../workspace/data_dst --output-dir ../workspace/data_dst/merged --aligned-dir ../workspace/data_dst/aligned --model-dir ../workspace/model --model \" + Model\n",
        "!python $cmd"
      ],
      "execution_count": null,
      "outputs": []
    },
    {
      "cell_type": "code",
      "metadata": {
        "id": "fbxfQ8UbJrqk",
        "cellView": "form"
      },
      "source": [
        "#@title 合成视频\n",
        "%cd $deepfacelab_cloab\n",
        "\n",
        "format = \"mp4\" #@param [\"mp4\",\"avi\",\"mov\"]\n",
        "lossless = False #@param {type:\"boolean\"}\n",
        "\n",
        "merged = \"main.py videoed video-from-sequence --input-dir ../workspace/data_dst/merged --output-file ../workspace/result.mp4 --reference-file ../workspace/data_dst.mp4 --include-audio\"\n",
        "merged_mask = \"main.py videoed video-from-sequence --input-dir ../workspace/data_dst/merged_mask --output-file ../workspace/result_mask.mp4 --reference-file ../workspace/data_dst.mp4 --include-audio --lossless\"\n",
        "\n",
        "\n",
        "if lossless :\n",
        "  merged=merged+\" --include-audio --lossless\"\n",
        "\n",
        "!python $merged\n",
        "!python $merged_mask\n",
        "\n"
      ],
      "execution_count": null,
      "outputs": []
    },
    {
      "cell_type": "markdown",
      "metadata": {
        "id": "cVfp8xbY5ykL"
      },
      "source": [
        "#第六步. 继续训练\n",
        "\n"
      ]
    },
    {
      "cell_type": "code",
      "metadata": {
        "id": "veL_8afb6WcP",
        "colab": {
          "base_uri": "https://localhost:8080/"
        },
        "cellView": "form",
        "outputId": "6e920cb6-ce53-4203-f340-1ad810d4aeaa"
      },
      "source": [
        "#@title 一键运行\n",
        "#挂载谷歌云盘\n",
        "#点击链接授权，复制授权码，填入框框，然后回车。\n",
        "\n",
        "Model = \"SAEHD\" #@param [\"SAEHD\" , \"Quick96\"]\n",
        "\n",
        "#挂载\n",
        "from google.colab import drive\n",
        "drive.mount('/content/drive', force_remount=True)\n",
        "\n",
        "\n",
        "import os \n",
        "root = \"/content/drive/Shareddrives/dl/\" #@param {type:\"string\"}\n",
        "tensorflow = \"2.x\" #@param [\"1.x\",\"2.x\"]\n",
        "%cd $root\n",
        "!mkdir DeepFaceLab\n",
        "deepfacelab=os.path.join(root,\"DeepFaceLab\")\n",
        "workspace=os.path.join(deepfacelab,\"workspace\")\n",
        "deepfacelab_cloab=os.path.join(deepfacelab,\"DeepFaceLab_Colab\")\n",
        "\n",
        "if tensorflow==\"1.x\":\n",
        "  %tensorflow_version 1.x\n",
        "else:\n",
        "  %tensorflow_version 2.x\n",
        "\n",
        "%cd $deepfacelab_cloab\n",
        "# 安装Python依赖\n",
        "!pip install -r requirements-colab.txt\n",
        "# 开始训练SAE ，如果是其他模型，修改后面的参数即可，比如H128。\n",
        "cmd = \"main.py train --training-data-src-dir ../workspace/data_src/aligned --training-data-dst-dir ../workspace/data_dst/aligned --model-dir ../workspace/model --model \"+Model+\" --no-preview\"\n",
        "!python $cmd "
      ],
      "execution_count": 1,
      "outputs": [
        {
          "output_type": "stream",
          "text": [
            "\rSaving: 100% 5/5 [00:06<00:00,  1.56s/it]\r                                         \rDone.\n"
          ],
          "name": "stdout"
        }
      ]
    },
    {
      "cell_type": "markdown",
      "metadata": {
        "id": "siaPGJ1QVacj"
      },
      "source": [
        "# 工具\n"
      ]
    },
    {
      "cell_type": "markdown",
      "metadata": {
        "id": "WGLTllAHYAPJ"
      },
      "source": [
        "\n",
        "打包素材。可以加快上传，下载，加载的速度。"
      ]
    },
    {
      "cell_type": "code",
      "metadata": {
        "id": "5MrM8JfIFiy7",
        "cellView": "form"
      },
      "source": [
        "#@title 开始排序\n",
        "target = \"src\" #@param [\"src\",\"dst\"]\n",
        "\n",
        "if target==\"src\":\n",
        "  #Src排序，可以通过谷歌云盘查看结果，删除不良图片\n",
        "  cmd = \"main.py sort --input-dir ../workspace/data_src/aligned\"\n",
        "  \n",
        "else:\n",
        "  cmd = \"main.py sort --input-dir ../workspace/data_dst/aligned \"\n",
        "\n",
        "!python $cmd"
      ],
      "execution_count": null,
      "outputs": []
    },
    {
      "cell_type": "code",
      "metadata": {
        "id": "fphcCxuh9Qfw",
        "cellView": "form"
      },
      "source": [
        "#@title 素材打包\n",
        "\n",
        "target = \"dst\" #@param [\"src\",\"dst\"]\n",
        "%cd $deepfacelab_cloab\n",
        "if target==\"src\":\n",
        "  !python main.py util --input-dir ../workspace/data_src/aligned  --pack-faceset\n",
        "else:\n",
        "  !python main.py util --input-dir ../workspace/data_dst/aligned  --pack-faceset\n",
        " \n",
        "  "
      ],
      "execution_count": null,
      "outputs": []
    },
    {
      "cell_type": "code",
      "metadata": {
        "id": "bC2CyDDx6siX",
        "cellView": "form"
      },
      "source": [
        "#@title 素材解包\n",
        "\n",
        "target = \"src\" #@param [\"src\",\"dst\"]\n",
        "%cd $deepfacelab_cloab\n",
        "if target==\"src\":\n",
        "  !python main.py util --input-dir ../workspace/data_src/aligned --unpack-faceset\n",
        "else:\n",
        "  !python main.py util --input-dir ../workspace/data_dst/aligned --unpack-faceset\n",
        " \n",
        "  "
      ],
      "execution_count": null,
      "outputs": []
    },
    {
      "cell_type": "code",
      "metadata": {
        "id": "NYDWkORS6xum",
        "cellView": "form"
      },
      "source": [
        "#@title 素材增强\n",
        "\n",
        "target = \"src\" #@param [\"src\"]\n",
        "%cd $deepfacelab_cloab\n",
        "if target==\"src\":\n",
        "  !python main.py facesettool enhance --input-dir ../workspace/data_src/aligned\n",
        "else:\n",
        "  !python main.py facesettool enhance --input-dir ../workspace/data_dst/aligned\n",
        " \n",
        "  "
      ],
      "execution_count": null,
      "outputs": []
    },
    {
      "cell_type": "markdown",
      "metadata": {
        "id": "5H85SsIW1PI3"
      },
      "source": [
        "# 其他\n",
        "\n",
        "  QQ群：659480116  \n",
        "    \n",
        " 谷歌云地址：https://drive.google.com/drive/my-drive\n",
        "\n",
        " 作者邮箱 ：wpgdream@gmail.com\n",
        " \n",
        " 使用教程：https://www.wxp123.me\n",
        " \n",
        " \n",
        "不求别的，只求在github给个小星星^_^\n",
        "\n",
        "https://github.com/dream80/DeepFaceLab_Colab\n",
        "\n",
        "右上角star 谢谢!!!  \n",
        "  \n"
      ]
    }
  ]
}