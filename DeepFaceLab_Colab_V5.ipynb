{
  "nbformat": 4,
  "nbformat_minor": 0,
  "metadata": {
    "accelerator": "GPU",
    "colab": {
      "name": "DeepFaceLab_Colab_V5.ipynb",
      "provenance": [],
      "collapsed_sections": [],
      "include_colab_link": true
    },
    "kernelspec": {
      "display_name": "Python 3",
      "name": "python3"
    }
  },
  "cells": [
    {
      "cell_type": "markdown",
      "metadata": {
        "id": "view-in-github",
        "colab_type": "text"
      },
      "source": [
        "<a href=\"https://colab.research.google.com/github/dream80/DeepFaceLab_Colab/blob/master/DeepFaceLab_Colab_V5.ipynb\" target=\"_parent\"><img src=\"https://colab.research.google.com/assets/colab-badge.svg\" alt=\"Open In Colab\"/></a>"
      ]
    },
    {
      "cell_type": "markdown",
      "metadata": {
        "id": "KWQMLYlFrTXz"
      },
      "source": [
        "# 简介\n",
        "\n",
        "无需多说，一路运行即可！\n",
        "\n",
        "此脚本由**[托尼是塔克](https://www.tonyisstark.com)**创建，仅用于学习，请勿滥用。如有疑问，拉到最后！\n",
        "\n",
        "QQ群：659480116  \n",
        "教程地址：https://www.deepfaker.xyz"
      ]
    },
    {
      "cell_type": "code",
      "metadata": {
        "colab": {
          "base_uri": "https://localhost:8080/"
        },
        "id": "AmGMbWZef1XI",
        "outputId": "26fbc5bd-9af1-413e-beb4-7351671ea7f1"
      },
      "source": [
        "#@title 查看分配到的设备\n",
        "# 查看设备，是K80还是T4,如果是K80...！\n",
        "! /opt/bin/nvidia-smi"
      ],
      "execution_count": null,
      "outputs": [
        {
          "output_type": "stream",
          "name": "stdout",
          "text": [
            "Fri Nov 12 06:08:15 2021       \n",
            "+-----------------------------------------------------------------------------+\n",
            "| NVIDIA-SMI 460.32.03    Driver Version: 460.32.03    CUDA Version: 11.2     |\n",
            "|-------------------------------+----------------------+----------------------+\n",
            "| GPU  Name        Persistence-M| Bus-Id        Disp.A | Volatile Uncorr. ECC |\n",
            "| Fan  Temp  Perf  Pwr:Usage/Cap|         Memory-Usage | GPU-Util  Compute M. |\n",
            "|                               |                      |               MIG M. |\n",
            "|===============================+======================+======================|\n",
            "|   0  Tesla P100-PCIE...  Off  | 00000000:00:04.0 Off |                    0 |\n",
            "| N/A   36C    P0    25W / 250W |      0MiB / 16280MiB |      0%      Default |\n",
            "|                               |                      |                  N/A |\n",
            "+-------------------------------+----------------------+----------------------+\n",
            "                                                                               \n",
            "+-----------------------------------------------------------------------------+\n",
            "| Processes:                                                                  |\n",
            "|  GPU   GI   CI        PID   Type   Process name                  GPU Memory |\n",
            "|        ID   ID                                                   Usage      |\n",
            "|=============================================================================|\n",
            "|  No running processes found                                                 |\n",
            "+-----------------------------------------------------------------------------+\n"
          ]
        }
      ]
    },
    {
      "cell_type": "markdown",
      "metadata": {
        "id": "ldpC3PjRrYYh"
      },
      "source": [
        "# 第一步 准备工作\n",
        " "
      ]
    },
    {
      "cell_type": "code",
      "metadata": {
        "id": "KtPP3K9inlLM",
        "cellView": "form"
      },
      "source": [
        "#@title 挂载云盘\n",
        "from google.colab import drive\n",
        "drive._mount('/content/drive')"
      ],
      "execution_count": null,
      "outputs": []
    },
    {
      "cell_type": "code",
      "metadata": {
        "cellView": "form",
        "colab": {
          "base_uri": "https://localhost:8080/"
        },
        "id": "ze6K9tYTkqK_",
        "outputId": "45649100-21b5-47e2-a04e-c343f943b05f"
      },
      "source": [
        "#@title 初始化项目\n",
        "\n",
        "import os \n",
        "root = \"/content/drive/Shareddrives/dl/\" #@param {type:\"string\"}\n",
        "tensorflow = \"2\" #@param [1,2]\n",
        "%cd $root\n",
        "!mkdir DeepFaceLab\n",
        "deepfacelab=os.path.join(root,\"DeepFaceLab\")\n",
        "workspace=os.path.join(deepfacelab,\"workspace\")\n",
        "deepfacelab_cloab=os.path.join(deepfacelab,\"DeepFaceLab_Colab\")\n",
        "\n",
        "if tensorflow==\"1\":\n",
        "  %tensorflow_version 1.x\n",
        "  !sudo apt-get install cuda-10-0\n",
        "else:\n",
        "  %tensorflow_version 2.x\n",
        "\n"
      ],
      "execution_count": null,
      "outputs": [
        {
          "name": "stdout",
          "output_type": "stream",
          "text": [
            "/content/drive/Shareddrives/dl\n",
            "mkdir: cannot create directory ‘DeepFaceLab’: File exists\n"
          ]
        }
      ]
    },
    {
      "cell_type": "code",
      "metadata": {
        "cellView": "form",
        "id": "fptlIHykh3HU"
      },
      "source": [
        "#@title 准备素材\n",
        "\n",
        "online = True #@param {type:\"boolean\"}\n",
        "upload = \"data_src/aligned\" #@param [\"data_src/aligned\",\"data_dst/aligned\",\"model\",\"data_src\",\"data_dst\"]\n",
        "\n",
        "if online :\n",
        "  %cd $deepfacelab\n",
        "  !rm -rf workspace\n",
        "  !git clone https://github.com/dream80/DFLWorkspace.git workspace\n",
        "else:\n",
        "  from google.colab import files\n",
        "  import shutil\n",
        "  upload_path = os.path.join(workspace,upload)\n",
        "  %cd $upload_path\n",
        "  #if os.path.isdir(upload_path):\n",
        "  #shutil.rmtree(upload_path)\n",
        "  uploaded = files.upload()\n",
        "  '''for filename in uploaded.keys():\n",
        "    print(basepath+\"/\"+filename)\n",
        "    print(upload_path+\"/\"+filename)\n",
        "    shutil.move(os.path.join(basepath, filename), os.path.join(upload_path, filename))\n",
        "\n",
        "  '''\n"
      ],
      "execution_count": null,
      "outputs": []
    },
    {
      "cell_type": "markdown",
      "metadata": {
        "id": "9eiY_suIhUD-"
      },
      "source": [
        "# 第二部 安装软件"
      ]
    },
    {
      "cell_type": "code",
      "metadata": {
        "cellView": "form",
        "colab": {
          "base_uri": "https://localhost:8080/",
          "height": 1000
        },
        "id": "4CbWbLzHzqTQ",
        "outputId": "ed2e6134-149d-4a69-982a-cacd634cabcf"
      },
      "source": [
        "#@title 开始安装\n",
        "\n",
        "Version = \"v3.07.20\" #@param [\"v2.02.03\", \"v2.02.23b\", \"v2.02.28\",\"v2.03.07\",\"v2.03.15\",\"v2.06.01\",\"v2.06.19\",\"v2.08.02\",\"v3.01.04\",\"v3.07.20\",\"last\"]\n",
        "%cd $deepfacelab\n",
        "!rm -fr DeepFaceLab_Colab\n",
        "\n",
        "if Version==\"620\":\n",
        "  print(\"620版加载中....\")\n",
        "  # 获取DFL源代码v1.6.1稳定版\n",
        "  !git clone -b v1.6.1 https://github.com/dream80/DeepFaceLab_Colab.git\n",
        "  %cd $deepfacelab_cloab\n",
        "  !pip install -r requirements-colab.txt  \n",
        "elif Version==\"last\":\n",
        "  print(\"最新版加载中....\")\n",
        "  !git clone https://github.com/dream80/DeepFaceLab_Colab.git DeepFaceLab_Colab\n",
        "  %cd $deepfacelab_cloab\n",
        "  !pip install -r requirements-colab.txt\n",
        "else:\n",
        "  print(Version+\" 加载中....\")\n",
        "  cmd=\"clone -b \"+Version+\" https://github.com/dream80/DeepFaceLab_Colab.git\"  \n",
        "  !git $cmd\n",
        "  %cd $deepfacelab_cloab\n",
        "  !pip install -r requirements-colab.txt\n",
        "\n",
        "\n"
      ],
      "execution_count": null,
      "outputs": [
        {
          "name": "stdout",
          "output_type": "stream",
          "text": [
            "/content/drive/Shareddrives/dl/DeepFaceLab\n",
            "v3.07.20 加载中....\n",
            "Cloning into 'DeepFaceLab_Colab'...\n",
            "remote: Enumerating objects: 4151, done.\u001b[K\n",
            "remote: Counting objects: 100% (134/134), done.\u001b[K\n",
            "remote: Compressing objects: 100% (93/93), done.\u001b[K\n",
            "remote: Total 4151 (delta 46), reused 90 (delta 40), pack-reused 4017\u001b[K\n",
            "Receiving objects: 100% (4151/4151), 785.02 MiB | 18.96 MiB/s, done.\n",
            "Resolving deltas: 100% (2601/2601), done.\n",
            "Note: checking out '68e8d1ef928f39d1c3cfd14f82685e26a9ee9f6b'.\n",
            "\n",
            "You are in 'detached HEAD' state. You can look around, make experimental\n",
            "changes and commit them, and you can discard any commits you make in this\n",
            "state without impacting any branches by performing another checkout.\n",
            "\n",
            "If you want to create a new branch to retain commits you create, you may\n",
            "do so (now or later) by using -b with the checkout command again. Example:\n",
            "\n",
            "  git checkout -b <new-branch-name>\n",
            "\n",
            "Checking out files: 100% (439/439), done.\n",
            "/content/drive/Shareddrives/dl/DeepFaceLab/DeepFaceLab_Colab\n",
            "Requirement already satisfied: tqdm in /usr/local/lib/python3.7/dist-packages (from -r requirements-colab.txt (line 1)) (4.41.1)\n",
            "Collecting numpy==1.19.3\n",
            "  Downloading numpy-1.19.3-cp37-cp37m-manylinux2010_x86_64.whl (14.9 MB)\n",
            "\u001b[K     |████████████████████████████████| 14.9 MB 105 kB/s \n",
            "\u001b[?25hCollecting h5py==2.10.0\n",
            "  Downloading h5py-2.10.0-cp37-cp37m-manylinux1_x86_64.whl (2.9 MB)\n",
            "\u001b[K     |████████████████████████████████| 2.9 MB 34.0 MB/s \n",
            "\u001b[?25hCollecting opencv-python==4.1.0.25\n",
            "  Downloading opencv_python-4.1.0.25-cp37-cp37m-manylinux1_x86_64.whl (26.6 MB)\n",
            "\u001b[K     |████████████████████████████████| 26.6 MB 62.5 MB/s \n",
            "\u001b[?25hCollecting ffmpeg-python==0.1.17\n",
            "  Downloading ffmpeg_python-0.1.17-py3-none-any.whl (20 kB)\n",
            "Requirement already satisfied: scipy==1.4.1 in /usr/local/lib/python3.7/dist-packages (from -r requirements-colab.txt (line 6)) (1.4.1)\n",
            "Collecting colorama\n",
            "  Downloading colorama-0.4.4-py2.py3-none-any.whl (16 kB)\n",
            "Collecting tf2onnx==1.8.4\n",
            "  Downloading tf2onnx-1.8.4-py3-none-any.whl (345 kB)\n",
            "\u001b[K     |████████████████████████████████| 345 kB 64.6 MB/s \n",
            "\u001b[?25hRequirement already satisfied: six in /usr/local/lib/python3.7/dist-packages (from h5py==2.10.0->-r requirements-colab.txt (line 3)) (1.15.0)\n",
            "Requirement already satisfied: future in /usr/local/lib/python3.7/dist-packages (from ffmpeg-python==0.1.17->-r requirements-colab.txt (line 5)) (0.16.0)\n",
            "Requirement already satisfied: flatbuffers in /usr/local/lib/python3.7/dist-packages (from tf2onnx==1.8.4->-r requirements-colab.txt (line 8)) (1.12)\n",
            "Collecting onnx>=1.4.1\n",
            "  Downloading onnx-1.10.1-cp37-cp37m-manylinux_2_12_x86_64.manylinux2010_x86_64.whl (12.3 MB)\n",
            "\u001b[K     |████████████████████████████████| 12.3 MB 54.9 MB/s \n",
            "\u001b[?25hRequirement already satisfied: requests in /usr/local/lib/python3.7/dist-packages (from tf2onnx==1.8.4->-r requirements-colab.txt (line 8)) (2.23.0)\n",
            "Requirement already satisfied: protobuf in /usr/local/lib/python3.7/dist-packages (from onnx>=1.4.1->tf2onnx==1.8.4->-r requirements-colab.txt (line 8)) (3.17.3)\n",
            "Requirement already satisfied: typing-extensions>=3.6.2.1 in /usr/local/lib/python3.7/dist-packages (from onnx>=1.4.1->tf2onnx==1.8.4->-r requirements-colab.txt (line 8)) (3.7.4.3)\n",
            "Requirement already satisfied: certifi>=2017.4.17 in /usr/local/lib/python3.7/dist-packages (from requests->tf2onnx==1.8.4->-r requirements-colab.txt (line 8)) (2021.5.30)\n",
            "Requirement already satisfied: chardet<4,>=3.0.2 in /usr/local/lib/python3.7/dist-packages (from requests->tf2onnx==1.8.4->-r requirements-colab.txt (line 8)) (3.0.4)\n",
            "Requirement already satisfied: urllib3!=1.25.0,!=1.25.1,<1.26,>=1.21.1 in /usr/local/lib/python3.7/dist-packages (from requests->tf2onnx==1.8.4->-r requirements-colab.txt (line 8)) (1.24.3)\n",
            "Requirement already satisfied: idna<3,>=2.5 in /usr/local/lib/python3.7/dist-packages (from requests->tf2onnx==1.8.4->-r requirements-colab.txt (line 8)) (2.10)\n",
            "Installing collected packages: numpy, onnx, tf2onnx, opencv-python, h5py, ffmpeg-python, colorama\n",
            "  Attempting uninstall: numpy\n",
            "    Found existing installation: numpy 1.19.5\n",
            "    Uninstalling numpy-1.19.5:\n",
            "      Successfully uninstalled numpy-1.19.5\n",
            "  Attempting uninstall: opencv-python\n",
            "    Found existing installation: opencv-python 4.1.2.30\n",
            "    Uninstalling opencv-python-4.1.2.30:\n",
            "      Successfully uninstalled opencv-python-4.1.2.30\n",
            "  Attempting uninstall: h5py\n",
            "    Found existing installation: h5py 3.1.0\n",
            "    Uninstalling h5py-3.1.0:\n",
            "      Successfully uninstalled h5py-3.1.0\n",
            "\u001b[31mERROR: pip's dependency resolver does not currently take into account all the packages that are installed. This behaviour is the source of the following dependency conflicts.\n",
            "tensorflow 2.5.0 requires h5py~=3.1.0, but you have h5py 2.10.0 which is incompatible.\n",
            "datascience 0.10.6 requires folium==0.2.1, but you have folium 0.8.3 which is incompatible.\n",
            "albumentations 0.1.12 requires imgaug<0.2.7,>=0.2.5, but you have imgaug 0.2.9 which is incompatible.\u001b[0m\n",
            "Successfully installed colorama-0.4.4 ffmpeg-python-0.1.17 h5py-2.10.0 numpy-1.19.3 onnx-1.10.1 opencv-python-4.1.0.25 tf2onnx-1.8.4\n"
          ]
        },
        {
          "data": {
            "application/vnd.colab-display-data+json": {
              "pip_warning": {
                "packages": [
                  "numpy"
                ]
              }
            }
          },
          "metadata": {
            "tags": []
          },
          "output_type": "display_data"
        }
      ]
    },
    {
      "cell_type": "markdown",
      "metadata": {
        "id": "9G9s5gJrty-x"
      },
      "source": [
        "# 第三步. 提取脸部"
      ]
    },
    {
      "cell_type": "code",
      "metadata": {
        "cellView": "form",
        "id": "YnhZyEERAW_D"
      },
      "source": [
        "#@title 开始提取SRC\n",
        "\n",
        "%cd $deepfacelab_cloab\n",
        "print(\"===分解视频==================================\")\n",
        "!python main.py videoed extract-video --input-file ../workspace/data_src.mp4 --output-dir ../workspace/data_src/\n",
        "print(\"===提取人脸==================================\")\n",
        "!python main.py extract --input-dir ../workspace/data_src --output-dir ../workspace/data_src/aligned --detector s3fd\n",
        "print(\"===打包人脸==================================\")\n",
        "!python main.py util --input-dir ../workspace/data_src/aligned  --pack-faceset\n"
      ],
      "execution_count": null,
      "outputs": []
    },
    {
      "cell_type": "code",
      "metadata": {
        "cellView": "form",
        "id": "VvdQB1XhuO8o"
      },
      "source": [
        "#@title 开始提取DST\n",
        "%cd $deepfacelab_cloab\n",
        "print(\"===分解视频==================================\")\n",
        "!python main.py videoed extract-video --input-file ../workspace/data_dst.mp4 --output-dir ../workspace/data_dst/\n",
        "print(\"===提取人脸==================================\")\n",
        "!python main.py extract --input-dir ../workspace/data_dst --output-dir ../workspace/data_dst/aligned --detector s3fd --output-debug\n",
        "print(\"===打包人脸==================================\")\n",
        "!python main.py util --input-dir ../workspace/data_dst/aligned  --pack-faceset\n"
      ],
      "execution_count": null,
      "outputs": []
    },
    {
      "cell_type": "markdown",
      "metadata": {
        "id": "QxO1kNO_uRTF"
      },
      "source": [
        "\n",
        "\n",
        "```\n",
        "# 此内容为代码格式\n",
        "```\n",
        "\n",
        "# 第四步. 训练模型\n"
      ]
    },
    {
      "cell_type": "code",
      "metadata": {
        "cellView": "form",
        "colab": {
          "base_uri": "https://localhost:8080/"
        },
        "id": "MKQbOrIiyFJL",
        "outputId": "041abd29-7eda-4646-800c-29e2db5d9132"
      },
      "source": [
        "#@title 训练模型\n",
        "Model = \"SAEHD\" #@param [\"SAEHD\",\"AMP\",\"Quick96\",\"XSeg\"]\n",
        "%cd $deepfacelab_cloab\n",
        "cmd = \"main.py train --training-data-src-dir ../workspace/data_src/aligned --training-data-dst-dir ../workspace/data_dst/aligned --model-dir ../workspace/model --model \"+Model+\" --no-preview\"\n",
        "!python $cmd"
      ],
      "execution_count": null,
      "outputs": [
        {
          "name": "stdout",
          "output_type": "stream",
          "text": [
            ""
          ]
        }
      ]
    },
    {
      "cell_type": "code",
      "metadata": {
        "cellView": "form",
        "colab": {
          "background_save": true,
          "base_uri": "https://localhost:8080/"
        },
        "id": "kEYnBHhJBZVs",
        "outputId": "587d3f87-ed4d-41bf-c454-b383d4c9cd81"
      },
      "source": [
        "#@title SRC-SRC\n",
        "Model = \"AMP\" #@param [\"SAEHD\",\"AMP\",\"Quick96\",\"XSeg\"]\n",
        "%cd $deepfacelab_cloab\n",
        "cmd = \"main.py train --training-data-src-dir ../workspace/data_src/aligned --training-data-dst-dir ../workspace/data_src/aligned --model-dir ../workspace/model --model \"+Model+\" --no-preview\"\n",
        "!python $cmd"
      ],
      "execution_count": null,
      "outputs": [
        {
          "name": "stdout",
          "output_type": "stream",
          "text": [
            "/content/drive/Shareddrives/dl/DeepFaceLab/DeepFaceLab_Colab\n",
            "Running trainer.\n",
            "\n",
            "Choose one of saved models, or enter a name to create a new model.\n",
            "[r] : rename\n",
            "[d] : delete\n",
            "\n",
            "[0] : AMP - latest\n",
            " : \n",
            "0\n",
            "Loading AMP_AMP model...\n",
            "\n",
            "\n",
            "Choose one or several GPU idxs (separated by comma).\n",
            "\n",
            "[CPU] : CPU\n",
            "  [0] : Tesla V100-SXM2-16GB\n",
            "\n",
            "[0] Which GPU indexes to choose? : 0\n",
            "\n",
            "Initializing models: 100% 5/5 [00:18<00:00,  3.72s/it]\n",
            "Loaded 27382 packed faces from /content/drive/Shareddrives/dl/DeepFaceLab/workspace/data_src/aligned\n",
            "================= Model Summary =================\n",
            "==                                             ==\n",
            "==            Model name: AMP_AMP              ==\n",
            "==                                             ==\n",
            "==     Current iteration: 379290               ==\n",
            "==                                             ==\n",
            "==--------------- Model Options ---------------==\n",
            "==                                             ==\n",
            "==            resolution: 224                  ==\n",
            "==             face_type: wf                   ==\n",
            "==     models_opt_on_gpu: True                 ==\n",
            "==               ae_dims: 256                  ==\n",
            "==            inter_dims: 256                  ==\n",
            "==                e_dims: 64                   ==\n",
            "==                d_dims: 64                   ==\n",
            "==           d_mask_dims: 22                   ==\n",
            "==          morph_factor: 0.5                  ==\n",
            "==           uniform_yaw: False                ==\n",
            "==           random_warp: True                 ==\n",
            "==               ct_mode: none                 ==\n",
            "==              clipgrad: False                ==\n",
            "==       autobackup_hour: 0                    ==\n",
            "== write_preview_history: False                ==\n",
            "==           target_iter: 0                    ==\n",
            "==       random_src_flip: False                ==\n",
            "==       random_dst_flip: True                 ==\n",
            "==            batch_size: 8                    ==\n",
            "==             gan_power: 0.0                  ==\n",
            "==        gan_patch_size: 28                   ==\n",
            "==              gan_dims: 16                   ==\n",
            "==                                             ==\n",
            "==---------------- Running On -----------------==\n",
            "==                                             ==\n",
            "==          Device index: 0                    ==\n",
            "==                  Name: Tesla V100-SXM2-16GB ==\n",
            "==                  VRAM: 14.34GB              ==\n",
            "==                                             ==\n",
            "=================================================\n",
            "Starting. Press \"Enter\" to stop training and save model.\n",
            "[23:06:32][#380097][0291ms][1.3131][1.2815]\n",
            "[23:31:31][#381274][0623ms][1.3188][1.3055]\n",
            "[23:56:30][#382548][0302ms][1.3164][1.2938]\n",
            "[00:21:32][#383842][0367ms][1.3114][1.2893]\n",
            "[00:46:32][#385132][0313ms][1.3147][1.3026]\n",
            "[01:11:30][#386423][0293ms][1.3133][1.2880]\n",
            "[01:36:31][#387725][0323ms][1.3117][1.2939]\n",
            "[02:01:31][#389029][0331ms][1.3101][1.2886]\n",
            "[02:26:31][#390329][0288ms][1.3041][1.2873]\n",
            "[02:51:30][#391630][0297ms][1.3107][1.2908]\n",
            "[03:16:30][#392936][0302ms][1.3134][1.2900]\n",
            "[03:41:30][#394239][0299ms][1.3131][1.2898]\n",
            "[04:06:31][#395542][0294ms][1.3025][1.2858]\n",
            "[04:31:30][#396852][0296ms][1.3086][1.2888]\n",
            "[04:56:30][#398162][0289ms][1.3061][1.2906]\n",
            "[05:21:30][#399460][0328ms][1.3058][1.2816]\n",
            "[05:46:32][#400735][0348ms][1.3017][1.2836]\n",
            "[06:11:30][#401990][0297ms][1.2988][1.2868]\n",
            "[06:36:32][#403233][0361ms][1.3111][1.2776]\n",
            "[07:01:30][#404511][0341ms][1.3029][1.2884]\n",
            "[07:26:32][#405801][0294ms][1.3011][1.2799]\n",
            "[07:51:30][#407088][0344ms][1.3084][1.2822]\n",
            "[08:16:30][#408379][0296ms][1.3092][1.2811]\n",
            "[08:41:32][#409673][0352ms][1.2960][1.2791]\n",
            "[09:06:31][#410966][0312ms][1.2993][1.2756]\n",
            "[09:31:30][#412262][0347ms][1.2918][1.2797]\n",
            "[09:56:30][#413554][0277ms][1.3016][1.2812]\n",
            "[10:21:30][#414850][0318ms][1.2968][1.2762]\n",
            "[10:46:31][#416152][0294ms][1.2991][1.2774]\n",
            "[11:11:32][#417459][0403ms][1.2923][1.2774]\n",
            "[11:19:42][#417888][0920ms][1.1713][1.1868]"
          ]
        }
      ]
    },
    {
      "cell_type": "markdown",
      "metadata": {
        "id": "m2Ba96cVuS0K"
      },
      "source": [
        "# 第五步. 转换输出\n",
        "\n"
      ]
    },
    {
      "cell_type": "code",
      "metadata": {
        "cellView": "form",
        "id": "G_oEgeU7I9jt"
      },
      "source": [
        "#@title 应用模型\n",
        "\n",
        "Model = \"SAEHD\" #@param [\"SAEHD\", \"Quick96\"]\n",
        "%cd $deepfacelab_cloab\n",
        "cmd = \" main.py merge --output-mask-dir ../workspace/data_dst/merged_mask --input-dir ../workspace/data_dst --output-dir ../workspace/data_dst/merged --aligned-dir ../workspace/data_dst/aligned --model-dir ../workspace/model --model \" + Model\n",
        "!python $cmd"
      ],
      "execution_count": null,
      "outputs": []
    },
    {
      "cell_type": "code",
      "metadata": {
        "cellView": "form",
        "id": "fbxfQ8UbJrqk"
      },
      "source": [
        "#@title 合成视频\n",
        "%cd $deepfacelab_cloab\n",
        "\n",
        "format = \"mp4\" #@param [\"mp4\",\"avi\",\"mov\"]\n",
        "lossless = False #@param {type:\"boolean\"}\n",
        "\n",
        "merged = \"main.py videoed video-from-sequence --input-dir ../workspace/data_dst/merged --output-file ../workspace/result.mp4 --reference-file ../workspace/data_dst.mp4 --include-audio\"\n",
        "merged_mask = \"main.py videoed video-from-sequence --input-dir ../workspace/data_dst/merged_mask --output-file ../workspace/result_mask.mp4 --reference-file ../workspace/data_dst.mp4 --include-audio --lossless\"\n",
        "\n",
        "\n",
        "if lossless :\n",
        "  merged=merged+\" --include-audio --lossless\"\n",
        "\n",
        "!python $merged\n",
        "!python $merged_mask\n",
        "\n"
      ],
      "execution_count": null,
      "outputs": []
    },
    {
      "cell_type": "markdown",
      "metadata": {
        "id": "cVfp8xbY5ykL"
      },
      "source": [
        "#第六步. 继续训练\n",
        "\n"
      ]
    },
    {
      "cell_type": "code",
      "metadata": {
        "cellView": "form",
        "colab": {
          "base_uri": "https://localhost:8080/"
        },
        "id": "veL_8afb6WcP",
        "outputId": "6e920cb6-ce53-4203-f340-1ad810d4aeaa"
      },
      "source": [
        "#@title 一键运行\n",
        "#挂载谷歌云盘\n",
        "#点击链接授权，复制授权码，填入框框，然后回车。\n",
        "\n",
        "Model = \"SAEHD\" #@param [\"SAEHD\" , \"Quick96\"]\n",
        "\n",
        "#挂载\n",
        "from google.colab import drive\n",
        "drive.mount('/content/drive', force_remount=True)\n",
        "\n",
        "\n",
        "import os \n",
        "root = \"/content/drive/Shareddrives/dl/\" #@param {type:\"string\"}\n",
        "tensorflow = \"2.x\" #@param [\"1.x\",\"2.x\"]\n",
        "%cd $root\n",
        "!mkdir DeepFaceLab\n",
        "deepfacelab=os.path.join(root,\"DeepFaceLab\")\n",
        "workspace=os.path.join(deepfacelab,\"workspace\")\n",
        "deepfacelab_cloab=os.path.join(deepfacelab,\"DeepFaceLab_Colab\")\n",
        "\n",
        "if tensorflow==\"1.x\":\n",
        "  %tensorflow_version 1.x\n",
        "else:\n",
        "  %tensorflow_version 2.x\n",
        "\n",
        "%cd $deepfacelab_cloab\n",
        "# 安装Python依赖\n",
        "!pip install -r requirements-colab.txt\n",
        "# 开始训练SAE ，如果是其他模型，修改后面的参数即可，比如H128。\n",
        "cmd = \"main.py train --training-data-src-dir ../workspace/data_src/aligned --training-data-dst-dir ../workspace/data_dst/aligned --model-dir ../workspace/model --model \"+Model+\" --no-preview\"\n",
        "!python $cmd "
      ],
      "execution_count": null,
      "outputs": [
        {
          "name": "stdout",
          "output_type": "stream",
          "text": [
            "\rSaving: 100% 5/5 [00:06<00:00,  1.56s/it]\r                                         \rDone.\n"
          ]
        }
      ]
    },
    {
      "cell_type": "markdown",
      "metadata": {
        "id": "siaPGJ1QVacj"
      },
      "source": [
        "# 工具\n"
      ]
    },
    {
      "cell_type": "markdown",
      "metadata": {
        "id": "WGLTllAHYAPJ"
      },
      "source": [
        "\n",
        "打包素材。可以加快上传，下载，加载的速度。"
      ]
    },
    {
      "cell_type": "code",
      "metadata": {
        "cellView": "form",
        "id": "5MrM8JfIFiy7"
      },
      "source": [
        "#@title 开始排序\n",
        "target = \"src\" #@param [\"src\",\"dst\"]\n",
        "\n",
        "if target==\"src\":\n",
        "  #Src排序，可以通过谷歌云盘查看结果，删除不良图片\n",
        "  cmd = \"main.py sort --input-dir ../workspace/data_src/aligned\"\n",
        "  \n",
        "else:\n",
        "  cmd = \"main.py sort --input-dir ../workspace/data_dst/aligned \"\n",
        "\n",
        "!python $cmd"
      ],
      "execution_count": null,
      "outputs": []
    },
    {
      "cell_type": "code",
      "metadata": {
        "cellView": "form",
        "id": "fphcCxuh9Qfw"
      },
      "source": [
        "#@title 素材打包\n",
        "\n",
        "target = \"dst\" #@param [\"src\",\"dst\"]\n",
        "%cd $deepfacelab_cloab\n",
        "if target==\"src\":\n",
        "  !python main.py util --input-dir ../workspace/data_src/aligned  --pack-faceset\n",
        "else:\n",
        "  !python main.py util --input-dir ../workspace/data_dst/aligned  --pack-faceset\n",
        " \n",
        "  "
      ],
      "execution_count": null,
      "outputs": []
    },
    {
      "cell_type": "code",
      "metadata": {
        "cellView": "form",
        "id": "bC2CyDDx6siX"
      },
      "source": [
        "#@title 素材解包\n",
        "\n",
        "target = \"src\" #@param [\"src\",\"dst\"]\n",
        "%cd $deepfacelab_cloab\n",
        "if target==\"src\":\n",
        "  !python main.py util --input-dir ../workspace/data_src/aligned --unpack-faceset\n",
        "else:\n",
        "  !python main.py util --input-dir ../workspace/data_dst/aligned --unpack-faceset\n",
        " \n",
        "  "
      ],
      "execution_count": null,
      "outputs": []
    },
    {
      "cell_type": "code",
      "metadata": {
        "cellView": "form",
        "id": "NYDWkORS6xum"
      },
      "source": [
        "#@title 素材增强\n",
        "\n",
        "target = \"src\" #@param [\"src\"]\n",
        "%cd $deepfacelab_cloab\n",
        "if target==\"src\":\n",
        "  !python main.py facesettool enhance --input-dir ../workspace/data_src/aligned\n",
        "else:\n",
        "  !python main.py facesettool enhance --input-dir ../workspace/data_dst/aligned\n",
        " \n",
        "  "
      ],
      "execution_count": null,
      "outputs": []
    },
    {
      "cell_type": "markdown",
      "metadata": {
        "id": "5H85SsIW1PI3"
      },
      "source": [
        "# 其他\n",
        "\n",
        "  QQ群：659480116  \n",
        "    \n",
        " 谷歌云地址：https://drive.google.com/drive/my-drive\n",
        "\n",
        " 作者邮箱 ：wpgdream@gmail.com\n",
        " \n",
        " 使用教程：https://www.wxp123.me\n",
        " \n",
        " \n",
        "不求别的，只求在github给个小星星^_^\n",
        "\n",
        "https://github.com/dream80/DeepFaceLab_Colab\n",
        "\n",
        "右上角star 谢谢!!!  \n",
        "  \n"
      ]
    }
  ]
}